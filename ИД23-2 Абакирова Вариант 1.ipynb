{
 "cells": [
  {
   "cell_type": "markdown",
   "metadata": {},
   "source": [
    "### Контрольная работа № 1.\n",
    "### Вариант 1.\n",
    "#### Студент Абакирова группа  ИД23-2"
   ]
  },
  {
   "cell_type": "markdown",
   "metadata": {},
   "source": [
    "1. Создайте класс Length (Длина), имеющий свойства\n",
    "\n",
    "• value (значение),\n",
    "\n",
    "• unit (единица измерения).\n",
    "\n",
    "При изменении единицы измерения значение должно соответственно меняться. Например, при переходе от сантиметров к метрам значение должно уменьшаться в 100 раз. Допустимые значения свойства unit: ‘см’, ‘м’, ‘км’. Организуйте эту проверку. Продемонстрируйте работу с классом."
   ]
  },
  {
   "cell_type": "code",
   "execution_count": 2,
   "metadata": {},
   "outputs": [
    {
     "name": "stdout",
     "output_type": "stream",
     "text": [
      "500 см\n",
      "5.0 м\n"
     ]
    }
   ],
   "source": [
    "class Length:\n",
    "    def __init__(self, value, unit):\n",
    "        self.value = value\n",
    "        self.unit = unit\n",
    "\n",
    "    def change_to_centimeters(self):   \n",
    "        if self.unit == 'м':\n",
    "            self.value *= 100\n",
    "            self.unit = 'см'\n",
    "        elif self.unit == 'км':\n",
    "            self.value *= 100000\n",
    "            self.unit = 'см'\n",
    "\n",
    "    def change_to_kilometers(self):\n",
    "        if self.unit == 'м':\n",
    "            self.value /= 1000\n",
    "            self.unit = 'км'\n",
    "        elif self.unit == 'см':\n",
    "            self.value /= 100000\n",
    "            self.unit = 'км'\n",
    "    \n",
    "    def change_to_meters(self):\n",
    "        if self.unit == 'см':\n",
    "            self.value /= 100\n",
    "            self.unit = 'м'\n",
    "        elif self.unit == 'км':\n",
    "            self.value *= 1000\n",
    "            self.unit = 'м'\n",
    "            \n",
    "    def change_unit(self, new_unit): #метод для перевода единицы измерения \n",
    "        if new_unit == self.unit:  \n",
    "            return\n",
    "        if new_unit == 'м':\n",
    "            self.change_to_meters()\n",
    "        elif new_unit == 'см':\n",
    "            self.change_to_centimeters()\n",
    "        elif new_unit == 'км':\n",
    "            self.change_to_kilometers()\n",
    "  \n",
    "    def __str__(self):                        #метод для перевода в строку \n",
    "        return f\"{self.value} {self.unit}\"\n",
    "\n",
    "\n",
    "length = Length(500, 'см')  #пример использования \n",
    "print(length)  \n",
    "\n",
    "length.change_unit('м') \n",
    "print(length)  "
   ]
  },
  {
   "cell_type": "markdown",
   "metadata": {},
   "source": [
    "2. Создайте класс Ведомость, имеющий\n",
    "атрибут класса:\n",
    "\n",
    "• список_дисциплин (значением является список с названиями дисциплин);\n",
    "\n",
    "свойства:\n",
    "\n",
    "• дисциплина (при задании значения проверять наличие дисциплины в атрибуте список_дисциплин),\n",
    "\n",
    "• группа;\n",
    "\n",
    "методы:\n",
    "\n",
    "• put – добавляет в ведомость информацию об оценке студента (фамилия, оценка – параметры метода). Для хранения данных внутри класса используйте словарь, в котором ключом является фамилия студента. Возможные оценки – «отлично», «хорошо», «удовл.», «неудовл.», «н/я»;\n",
    "\n",
    "• get – возвращает оценку, полученную студентом (фамилия студента – параметр метода);\n",
    "\n",
    "• change – изменяет оценку, полученную студентом (фамилия студента и новая оценка – параметры метода);\n",
    "\n",
    "• del – удаляет информацию о студенте из ведомости (фамилия студента – параметр метода);\n",
    "\n",
    "• result – возвращает кортеж из 5 чисел (количество каждого вида оценок в ведомости);\n",
    "\n",
    "• __init__ – конструктор;\n",
    "\n",
    "• __str__ – возвращает строку, содержащую заголовки (название экзамена, группа) и результаты экзамена в виде таблицы;\n",
    "\n",
    "• count – возвращает количество студентов в ведомости;\n",
    "\n",
    "• names – возвращает список фамилий, имеющихся в ведомости.\n",
    "\n",
    "Продемонстрируйте работу с классом. \n"
   ]
  },
  {
   "cell_type": "code",
   "execution_count": 22,
   "metadata": {},
   "outputs": [
    {
     "name": "stdout",
     "output_type": "stream",
     "text": [
      "Дисциплина: Информатика, Группа: Группа 23\n",
      "Отлично: 1, Хорошо: 1, Удовл.: 1, Неудовл.: 1, Н/Я: 0\n"
     ]
    }
   ],
   "source": [
    "class Vedomost:\n",
    "    список_дисциплин = [\"Математика\", \"Информатика\", \"Литература\", \"Физика\"]\n",
    "\n",
    "    def __init__(self, дисциплина, группа):\n",
    "        self.дисциплина = дисциплина\n",
    "        self.группа = группа\n",
    "        self.оценки = {}\n",
    "\n",
    "    def put(self, фамилия, оценка):\n",
    "        if оценка in [\"отлично\", \"хорошо\", \"удовл.\", \"неудовл.\", \"н/я\"]:\n",
    "            self.оценки[фамилия] = оценка\n",
    "        else:\n",
    "            print(\"Неправильная оценка\")\n",
    "\n",
    "    def get(self, фамилия):\n",
    "        return self.оценки.get(фамилия, \"Студента нет\")\n",
    "\n",
    "    def change(self, фамилия, новая_оценка):\n",
    "        if новая_оценка in [\"отлично\", \"хорошо\", \"удовл.\", \"неудовл.\", \"н/я\"]:\n",
    "            if фамилия in self.оценки:\n",
    "                self.оценки[фамилия] = новая_оценка\n",
    "            else:\n",
    "                print(\"Студента нет\")\n",
    "        else:\n",
    "            print(\"Неправильная оценка\")\n",
    "\n",
    "    def delete(self, фамилия):\n",
    "        if фамилия in self.оценки:\n",
    "            del self.оценки[фамилия]\n",
    "        else:\n",
    "            print(\"Студента нет\")\n",
    "\n",
    "    def result(self):\n",
    "        отлично = list(self.оценки.values()).count(\"отлично\")\n",
    "        хорошо = list(self.оценки.values()).count(\"хорошо\")\n",
    "        удовл = list(self.оценки.values()).count(\"удовл.\")\n",
    "        неудовл = list(self.оценки.values()).count(\"неудовл.\")\n",
    "        недостаточно = list(self.оценки.values()).count(\"н/я\")\n",
    "        return отлично, хорошо, удовл, неудовл, недостаточно\n",
    "\n",
    "    def __str__(self):\n",
    "        result = self.result()\n",
    "        output = f\"Дисциплина: {self.дисциплина}, Группа: {self.группа}\\n\"\n",
    "        output += f\"Отлично: {result[0]}, Хорошо: {result[1]}, Удовл.: {result[2]}, Неудовл.: {result[3]}, Н/Я: {result[4]}\"\n",
    "        return output\n",
    "\n",
    "    def count(self):\n",
    "        return len(self.оценки)\n",
    "\n",
    "    def names(self):\n",
    "        return list(self.оценки.keys())\n",
    "\n",
    "\n",
    "#пример\n",
    "ведомость = Vedomost(\"Информатика\", \"Группа 23\")\n",
    "\n",
    "ведомость.put(\"Абакирова\", \"отлично\")\n",
    "ведомость.put(\"Кочнева\", \"хорошо\")\n",
    "ведомость.put(\"Углов\", \"удовл.\")\n",
    "ведомость.put(\"Петров\", \"неудовл.\")\n",
    "print(ведомость)"
   ]
  },
  {
   "cell_type": "markdown",
   "metadata": {},
   "source": [
    "3. Создайте класс Заказ(Order), у которого есть свойства код_товара(code), цена(price), количество(count) и методы __init__ и __str__.\n",
    "\n",
    "Создайте 2 класса-потомка: Опт(Opt) и Розница(Retail).\n",
    "В этих классах создайте методы __init__, __str__.и сумма_заказа(summa), позволяющий узнать стоимость заказа.\n",
    "Для опта стоимость единицы товара составляет 95% от цены, а при покупке более 500 штук – 90% цены.\n",
    "В розницу стоимость единицы товара составляет 100% цены. Стоимость заказа равна произведению цены на количество. \n",
    "\n",
    "Продемонстрируйте работу с классами, создав необходимые объекты и обратившись к их свойствам и методам\n"
   ]
  },
  {
   "cell_type": "code",
   "execution_count": 8,
   "metadata": {},
   "outputs": [
    {
     "name": "stdout",
     "output_type": "stream",
     "text": [
      "Opt - Code: 123, Price: 100, Count: 200\n",
      "19000.0\n",
      "Retail - Code: 456, Price: 60, Count: 80\n",
      "4800\n"
     ]
    }
   ],
   "source": [
    "class Order:\n",
    "    def __init__(self, code, price, count):  \n",
    "        self.code = code\n",
    "        self.price = price\n",
    "        self.count = count\n",
    "\n",
    "    def __str__(self):\n",
    "        return f\"Code: {self.code}, Price: {self.price}, Count: {self.count}\"\n",
    "\n",
    "\n",
    "class Opt(Order):  #метод оптом\n",
    "    def __init__(self, code, price, count):\n",
    "        super().__init__(code, price, count)\n",
    "\n",
    "    def __str__(self):\n",
    "        return f\"Opt - Code: {self.code}, Price: {self.price}, Count: {self.count}\"\n",
    "\n",
    "    def summa(self):  #сумма \n",
    "        if self.count > 500:\n",
    "            return 0.9 * self.price * self.count\n",
    "        else:\n",
    "            return 0.95 * self.price * self.count\n",
    "\n",
    "\n",
    "class Retail(Order):     #метод розница\n",
    "    def __init__(self, code, price, count):\n",
    "        super().__init__(code, price, count)\n",
    "\n",
    "    def __str__(self):\n",
    "        return f\"Retail - Code: {self.code}, Price: {self.price}, Count: {self.count}\"\n",
    "\n",
    "    def summa(self):\n",
    "        return self.price * self.count\n",
    "\n",
    "order = Opt(\"123\", 100, 200)\n",
    "print(order)  \n",
    "print(order.summa())  \n",
    "\n",
    "order = Retail(\"456\", 60, 80)\n",
    "print(order)  \n",
    "print(order.summa())  "
   ]
  },
  {
   "cell_type": "markdown",
   "metadata": {},
   "source": [
    "4. Написать функцию my_func_1(lst), которая переворачивает список вложенных списков с произвольным уровнем вложенности.\n",
    "Любой элемент, не являющийся списком, не должен быть изменен.\n",
    "\n",
    "Примеры, демонстрирующие ожидаемое поведение функции:\n",
    "\n",
    "assert my_func_1(42) == 42\n",
    "\n",
    "assert my_func_1([]) == []\n",
    "\n",
    "assert my_func_1([1, 2]) == [2, 1]\n",
    "\n",
    "assert my_func_1((1, 2)) == (1, 2)\n",
    "\n",
    "assert my_func_1([[1, 2], [3, [4, 5]], 6]) == [6, [[5, 4], 3], [2, 1]]\n",
    "\n",
    "assert my_func_1(['123', '456', '789', {10: [11, 12], 13: 14}, (15, 16)]) == [(15, 16), {10: [11, 12], 13: 14}, '789', '456', '123']\n",
    "\n",
    "assert my_func_1([[[[[1, 2]]]]]) == [[[[[2, 1]]]]]"
   ]
  },
  {
   "cell_type": "code",
   "execution_count": 20,
   "metadata": {},
   "outputs": [
    {
     "name": "stdout",
     "output_type": "stream",
     "text": [
      "42\n",
      "[]\n",
      "[2, 1]\n",
      "(1, 2)\n",
      "[6, [[5, 4], 3], [2, 1]]\n",
      "True\n",
      "True\n",
      "True\n"
     ]
    }
   ],
   "source": [
    "def my_func_1(lst):\n",
    "    if isinstance(lst, list):  #проверяю наличие списка \n",
    "        return list(map(my_func_1, lst[::-1]))  #рекурсией переворачиваю список \n",
    "    else:\n",
    "        return lst  #если не список, то не изменяю \n",
    "print(my_func_1(42))  \n",
    "print(my_func_1([]))  \n",
    "print(my_func_1([1, 2]))  \n",
    "print(my_func_1((1, 2)))  \n",
    "print(my_func_1([[1, 2], [3, [4, 5]], 6]))  \n",
    "print(my_func_1([[1, 2], [3, [4, 5]], 6]) == [6, [[5, 4], 3], [2, 1]])\n",
    "print(my_func_1(['123', '456', '789', {10: [11, 12], 13: 14}, (15, 16)]) == [(15, 16), {10: [11, 12], 13: 14}, '789', '456', '123'])\n",
    "print(my_func_1([[[[[1, 2]]]]]) == [[[[[2, 1]]]]])\n"
   ]
  },
  {
   "cell_type": "markdown",
   "metadata": {},
   "source": [
    "5.При помощи механизма map/filter/reduce возвести в квадрат числа от 1 до 100, и рассчитать их сумму, не включая в сумму числа, кратные 9. Написать реализацию в одну строку."
   ]
  },
  {
   "cell_type": "markdown",
   "metadata": {},
   "source": [
    "не смогла выполнить "
   ]
  }
 ],
 "metadata": {
  "kernelspec": {
   "display_name": "Python 3 (ipykernel)",
   "language": "python",
   "name": "python3"
  },
  "language_info": {
   "codemirror_mode": {
    "name": "ipython",
    "version": 3
   },
   "file_extension": ".py",
   "mimetype": "text/x-python",
   "name": "python",
   "nbconvert_exporter": "python",
   "pygments_lexer": "ipython3",
   "version": "3.10.9"
  }
 },
 "nbformat": 4,
 "nbformat_minor": 4
}
