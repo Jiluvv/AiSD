{
 "cells": [
  {
   "cell_type": "markdown",
   "id": "b4cc6958",
   "metadata": {},
   "source": [
    "28. а) Напишите лямбда-функцию, которая добавляет 15 к заданному числу, переданному в качестве аргумента, а также лямбда-функцию, которая умножает аргумент x на аргумент y, и выведите результат.\n",
    "б) Найти максимальное и минимальное значения в заданном списке кортежей с помощью лямбда-функции.\n",
    "в) Извлечь строки с заданной длиной из списка строковых значений с помощью лямбда-функции."
   ]
  },
  {
   "cell_type": "code",
   "execution_count": 9,
   "id": "15f7a823",
   "metadata": {},
   "outputs": [
    {
     "name": "stdout",
     "output_type": "stream",
     "text": [
      "25\n",
      "20\n",
      "(10, 3)\n",
      "(1, 5)\n",
      "['orange']\n"
     ]
    }
   ],
   "source": [
    "# а\n",
    "add_15 = lambda x: x + 15\n",
    "multiply = lambda x, y: x * y\n",
    "\n",
    "result_add = add_15(10)\n",
    "result_multiply = multiply(5, 4)\n",
    "print(result_add)\n",
    "print(result_multiply)\n",
    "\n",
    "# б\n",
    "numbers = [(1, 5), (10, 3), (7, 8)]\n",
    "max_num = max(numbers, key=lambda x: max(x))\n",
    "min_num = min(numbers, key=lambda x: min(x))\n",
    "print(max_num)\n",
    "print(min_num)\n",
    "\n",
    "# в\n",
    "strings = ['black', 'orange', 'white', 'blue']\n",
    "length = 6\n",
    "filtered_strings = list(filter(lambda x: len(x) == length, strings))\n",
    "print(filtered_strings)\n"
   ]
  },
  {
   "cell_type": "markdown",
   "id": "c6760a88",
   "metadata": {},
   "source": [
    "29. а) Утройте все числа из заданного списка целых чисел, используя функцию map()."
   ]
  },
  {
   "cell_type": "code",
   "execution_count": 10,
   "id": "7ba77b7f",
   "metadata": {},
   "outputs": [
    {
     "name": "stdout",
     "output_type": "stream",
     "text": [
      "[3, 6, 9, 12, 15]\n"
     ]
    }
   ],
   "source": [
    "from functools import reduce\n",
    "\n",
    "# а)\n",
    "numbers = [1, 2, 3, 4, 5]\n",
    "tripled_numbers = list(map(lambda x: x * 3, numbers)) #Утроение чисел из списка \n",
    "print(tripled_numbers)\n"
   ]
  },
  {
   "cell_type": "markdown",
   "id": "9a49b6eb",
   "metadata": {},
   "source": [
    "б) Сгенерировать список целых чисел. С помощью функции filter() \n",
    "выбрать из списка все нечетные числа и упорядочить их по убыванию. Используя функцию reduce(), найти их произведение.\n"
   ]
  },
  {
   "cell_type": "code",
   "execution_count": 11,
   "id": "a31e0e2d",
   "metadata": {},
   "outputs": [
    {
     "name": "stdout",
     "output_type": "stream",
     "text": [
      "[11, 9, 7, 1]\n",
      "693\n"
     ]
    }
   ],
   "source": [
    "# б)\n",
    "numbers = [6, 11, 7, 14, 9, 2, 1]\n",
    "new_numbers_sorted = sorted(filter(lambda x: x % 2 != 0, numbers), reverse=True) #сортировка нечетных чисел и убывание\n",
    "product = reduce(lambda x, y: x * y, new_numbers_sorted) #произведение \n",
    "print(new_numbers_sorted)\n",
    "print(product)"
   ]
  },
  {
   "cell_type": "markdown",
   "id": "b27e85ac",
   "metadata": {},
   "source": [
    "30. а) Создайте декоратор, который будет выводить время выполнения функции и сохранять его в файл.\n",
    "б) Создайте декоратор, который будет принимать аргументы и передавать их в функцию в качестве позиционных параметров с заданными значениями по умолчанию.\n"
   ]
  },
  {
   "cell_type": "code",
   "execution_count": null,
   "id": "4efd93a8",
   "metadata": {},
   "outputs": [],
   "source": []
  }
 ],
 "metadata": {
  "kernelspec": {
   "display_name": "Python 3 (ipykernel)",
   "language": "python",
   "name": "python3"
  },
  "language_info": {
   "codemirror_mode": {
    "name": "ipython",
    "version": 3
   },
   "file_extension": ".py",
   "mimetype": "text/x-python",
   "name": "python",
   "nbconvert_exporter": "python",
   "pygments_lexer": "ipython3",
   "version": "3.10.9"
  }
 },
 "nbformat": 4,
 "nbformat_minor": 5
}
