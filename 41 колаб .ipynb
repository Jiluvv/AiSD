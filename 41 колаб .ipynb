{
 "cells": [
  {
   "cell_type": "markdown",
   "id": "0a8bed4b",
   "metadata": {},
   "source": [
    "а) Создать класс «Студент» с полями «Имя», «Фамилия», «Год рождения» и «Средний балл». Создать хеш-таблицу для хранения объектов класса «Студент» по ключу — номеру зачетной книжки. б) Написать функцию для объединения двух хеш-таблиц. в) Реализуйте хеш-таблицу для хранения информации о клиентах туристического агентства. Ключом является номер паспорта клиента, значение — объект, содержащий информацию о клиенте (ФИО, контактная информация, список заказанных туров и т.д.). Используйте метод разрешения коллизий методом открытой адресации с линейным пробированием."
   ]
  },
  {
   "cell_type": "code",
   "execution_count": 4,
   "id": "6c93f86d",
   "metadata": {},
   "outputs": [
    {
     "name": "stdout",
     "output_type": "stream",
     "text": [
      "Номер паспорта: 1\n",
      "ФИО: Петрова Мария Сергеевна\n",
      "Контактная информация: +987654321\n",
      "Список туров: ['Отдых на море']\n",
      "Номер паспорта: 9\n",
      "ФИО: Иванов Иван Иванович\n",
      "Контактная информация: +123456789\n",
      "Список туров: ['Тур в Париж', 'Экскурсия по Риму']\n"
     ]
    }
   ],
   "source": [
    "class Student:\n",
    "    def __init__(self, name, surname, birth_year, gpa):\n",
    "        self.name = name\n",
    "        self.surname = surname\n",
    "        self.birth_year = birth_year\n",
    "        self.gpa = gpa\n",
    "\n",
    "# Функция для объединения двух хеш-таблиц\n",
    "def merge_hash_tables(table1, table2):\n",
    "    merged_table = {}\n",
    "    merged_table.update(table1)\n",
    "    merged_table.update(table2)\n",
    "    return merged_table\n",
    "\n",
    "# Хеш-таблица для хранения информации о клиентах туристического агентства\n",
    "class Client:\n",
    "    def __init__(self, full_name, contact_info, tours):\n",
    "        self.full_name = full_name\n",
    "        self.contact_info = contact_info\n",
    "        self.tours = tours\n",
    "\n",
    "# Реализация хеш-таблицы \n",
    "class HashTable:\n",
    "    def __init__(self, size):\n",
    "        self.size = size\n",
    "        self.table = [None] * size\n",
    "\n",
    "    def hash_function(self, key):\n",
    "        return key % self.size\n",
    "\n",
    "    def linear_probing(self, key, i):\n",
    "        return (self.hash_function(key) + i) % self.size\n",
    "\n",
    "    def insert(self, key, value):\n",
    "        i = 0\n",
    "        while i < self.size:\n",
    "            index = self.linear_probing(key, i)\n",
    "            if self.table[index] is None:\n",
    "                self.table[index] = value\n",
    "                return\n",
    "            else:\n",
    "                i += 1\n",
    "        print(\"Hash table is full, cannot insert key:\", key)\n",
    "\n",
    "# Пример использования хеш-таблицы для клиентов туристического агентства\n",
    "client1 = Client(\"Бобов Боб Бобович\", \"+123456789\", [\"Испания\", \"Италия\"])\n",
    "client2 = Client(\"Лев\", \"+987654321\", [\"Китай\"])\n",
    "\n",
    "hash_table = HashTable(size=10)\n",
    "hash_table.insert(123456789, client1)\n",
    "hash_table.insert(987654321, client2)\n",
    "\n",
    "# Вывод информации о клиентах\n",
    "for client_id in range(hash_table.size):\n",
    "    if hash_table.table[client_id] is not None:\n",
    "        client = hash_table.table[client_id]\n",
    "        print(\"Номер паспорта:\", client_id)\n",
    "        print(\"ФИО:\", client.full_name)\n",
    "        print(\"Контактная информация:\", client.contact_info)\n",
    "        print(\"Список туров:\", client.tours)"
   ]
  },
  {
   "cell_type": "code",
   "execution_count": null,
   "id": "3d4e346c",
   "metadata": {},
   "outputs": [],
   "source": []
  }
 ],
 "metadata": {
  "kernelspec": {
   "display_name": "Python 3 (ipykernel)",
   "language": "python",
   "name": "python3"
  },
  "language_info": {
   "codemirror_mode": {
    "name": "ipython",
    "version": 3
   },
   "file_extension": ".py",
   "mimetype": "text/x-python",
   "name": "python",
   "nbconvert_exporter": "python",
   "pygments_lexer": "ipython3",
   "version": "3.10.9"
  }
 },
 "nbformat": 4,
 "nbformat_minor": 5
}
